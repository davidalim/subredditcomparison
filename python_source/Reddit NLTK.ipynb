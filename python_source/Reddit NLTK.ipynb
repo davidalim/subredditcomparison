{
 "cells": [
  {
   "cell_type": "code",
   "execution_count": 17,
   "metadata": {
    "collapsed": true
   },
   "outputs": [],
   "source": [
    "import praw\n",
    "import cPickle as pickle\n",
    "import os\n",
    "import nltk\n",
    "from nltk.corpus import stopwords\n",
    "from __future__ import division\n",
    "import string\n",
    "import re\n",
    "import math\n",
    "from nltk.stem import WordNetLemmatizer\n",
    "from wordcloud import WordCloud\n",
    "from matplotlib import pyplot\n",
    "%matplotlib inline"
   ]
  },
  {
   "cell_type": "markdown",
   "metadata": {},
   "source": [
    "Getting data from reddit"
   ]
  },
  {
   "cell_type": "code",
   "execution_count": null,
   "metadata": {
    "collapsed": true
   },
   "outputs": [],
   "source": [
    "r = praw.Reddit(user_agent='m')"
   ]
  },
  {
   "cell_type": "code",
   "execution_count": null,
   "metadata": {
    "collapsed": true
   },
   "outputs": [],
   "source": [
    "community = \"christianity\"\n",
    "submissions = r.get_subreddit(community).get_top_from_all(limit=1000)"
   ]
  },
  {
   "cell_type": "code",
   "execution_count": null,
   "metadata": {
    "collapsed": false
   },
   "outputs": [],
   "source": [
    "count = 0\n",
    "raw_text = \"\"\n",
    "for submission in submissions:\n",
    "    if count % 10 == 0:\n",
    "        print \"%d%% done\" % (count/10)\n",
    "    try:\n",
    "        raw_text += \" \" + submission.title\n",
    "        for c in submission.comments:\n",
    "            raw_text += \" \" + c.body\n",
    "    except:\n",
    "        continue\n",
    "    count += 1    "
   ]
  },
  {
   "cell_type": "code",
   "execution_count": null,
   "metadata": {
    "collapsed": false
   },
   "outputs": [],
   "source": [
    "afile = open(r'.\\christianity_content.pkl', 'wb')\n",
    "pickle.dump(raw_text, afile)\n",
    "afile.close()"
   ]
  },
  {
   "cell_type": "code",
   "execution_count": null,
   "metadata": {
    "collapsed": true
   },
   "outputs": [],
   "source": [
    "community = \"islam\"\n",
    "submissions = r.get_subreddit(community).get_top_from_all(limit=1000)"
   ]
  },
  {
   "cell_type": "code",
   "execution_count": null,
   "metadata": {
    "collapsed": false
   },
   "outputs": [],
   "source": [
    "count = 0\n",
    "raw_text = \"\"\n",
    "for submission in submissions:\n",
    "    if count % 10 == 0:\n",
    "        print \"%d%% done\" % (count/10)\n",
    "    try:\n",
    "        raw_text += \" \" + submission.title\n",
    "        for c in submission.comments:\n",
    "            raw_text += \" \" + c.body\n",
    "    except:\n",
    "        continue\n",
    "    count += 1  "
   ]
  },
  {
   "cell_type": "code",
   "execution_count": null,
   "metadata": {
    "collapsed": true
   },
   "outputs": [],
   "source": [
    "afile = open(r'.\\islam_content.pkl', 'wb')\n",
    "pickle.dump(raw_text, afile)\n",
    "afile.close()"
   ]
  },
  {
   "cell_type": "code",
   "execution_count": null,
   "metadata": {
    "collapsed": true
   },
   "outputs": [],
   "source": [
    "communities = [\"sports\", \"gaming\", \"movies\", \"music\"]\n",
    "\n",
    "community_submissions = {}\n",
    "for community in communities:\n",
    "    community_submissions[community] = r.get_subreddit(community).get_top_from_all(limit=800)"
   ]
  },
  {
   "cell_type": "code",
   "execution_count": null,
   "metadata": {
    "collapsed": false
   },
   "outputs": [],
   "source": [
    "for community, submissions in community_submissions.items():\n",
    "    count = 0\n",
    "    raw_text = \"\"\n",
    "    for submission in submissions:\n",
    "        if count % 10 == 0:\n",
    "            print \"%d%% done\" % (count/10)\n",
    "        try:\n",
    "            raw_text += \" \" + submission.title\n",
    "            for c in submission.comments:\n",
    "                raw_text += \" \" + c.body\n",
    "        except:\n",
    "            continue\n",
    "        count += 1  \n",
    "        \n",
    "    afile = open(r'.\\\\'+ community +'_content.pkl', 'wb')\n",
    "    pickle.dump(raw_text, afile)\n",
    "    afile.close()"
   ]
  },
  {
   "cell_type": "code",
   "execution_count": null,
   "metadata": {
    "collapsed": true
   },
   "outputs": [],
   "source": [
    "afile = open(r'.\\islam_content.pkl', 'wb')\n",
    "pickle.dump(raw_text, afile)\n",
    "afile.close()"
   ]
  },
  {
   "cell_type": "markdown",
   "metadata": {},
   "source": [
    "Load saved text from subreddits"
   ]
  },
  {
   "cell_type": "code",
   "execution_count": 13,
   "metadata": {
    "collapsed": false
   },
   "outputs": [],
   "source": [
    "subreddits = [\"sports\", \"gaming\", \"movies\", \"music\",\"islam\",\"christianity\"]\n",
    "subreddit_rawtext = {}\n",
    "\n",
    "for subreddit in subreddits:\n",
    "    afile = open(r'.\\\\'+subreddit+'_content.pkl', 'rb')\n",
    "    subreddit_rawtext[subreddit] = pickle.load(afile)\n",
    "    afile.close()\n"
   ]
  },
  {
   "cell_type": "markdown",
   "metadata": {},
   "source": [
    "Tokenizing text"
   ]
  },
  {
   "cell_type": "code",
   "execution_count": 18,
   "metadata": {
    "collapsed": false
   },
   "outputs": [],
   "source": [
    "# dictionary mapping subreddit -> cleaned token list\n",
    "subreddit_cleantokens = {}\n",
    "\n",
    "# stopwords (to be removed from tokens)\n",
    "stopwords = nltk.corpus.stopwords.words('english')\n",
    "\n",
    "# common words\n",
    "common_words = [\"n't\",\"''\",'\"\"',\"``\",\"i\",\"'s\",\"'m\",\"...\",\"the\",\"it\",\"i\",'this']\n",
    "\n",
    "# combine all words to remove to reduce iterations\n",
    "remove = list(string.punctuation) + stopwords + common_words\n",
    "\n",
    "wnl = WordNetLemmatizer()\n",
    "        \n",
    "for subreddit, rawtext in subreddit_rawtext.items():\n",
    "    tokens = nltk.word_tokenize(rawtext)\n",
    "    tokens = [w for w in tokens if w not in remove] # remove unwanted words\n",
    "    tokens = [w for w in tokens if not re.match(r'^[-+]?(\\d+(.\\d+)?)$', w)] # remove all numbers \n",
    "    tokens = [w.lower() for w in tokens] # make lower-case\n",
    "    tokens = [wnl.lemmatize(w) for w in tokens]\n",
    "\n",
    "    subreddit_cleantokens[subreddit] = tokens\n",
    "    \n",
    "subreddit_cleantokens[\"islam_christianity\"] = subreddit_cleantokens[\"islam\"] + subreddit_cleantokens[\"christianity\"]"
   ]
  },
  {
   "cell_type": "markdown",
   "metadata": {},
   "source": [
    "Calculating TF"
   ]
  },
  {
   "cell_type": "code",
   "execution_count": 19,
   "metadata": {
    "collapsed": false
   },
   "outputs": [
    {
     "name": "stdout",
     "output_type": "stream",
     "text": [
      "TOP FIVE TERMS IN EACH SUBREDDIT\n",
      "gaming                               |i, game, like, http, one, the, would, get, this, it\n",
      "islam_christianity                   |i, god, people, like, christian, one, it, the, would, think\n",
      "christianity                         |i, god, people, christian, like, one, it, church, would, the\n",
      "movies                               |i, movie, the, like, http, one, film, it, would, see\n",
      "music                                |i, http, song, like, the, //www.youtube.com/watch, one, music, time, album\n",
      "sports                               |i, like, http, the, game, one, would, guy, get, it\n",
      "islam                                |i, muslim, people, allah, like, one, islam, http, the, would\n"
     ]
    }
   ],
   "source": [
    "# resulting TFs: branch -> (word -> frequency in branch)\n",
    "subreddit_tfs = {}\n",
    "\n",
    "# compute freqdist for each branch\n",
    "for subreddit, wordlist in subreddit_cleantokens.items():\n",
    "    subreddit_tfs[subreddit] = nltk.FreqDist(wordlist)   \n",
    "    \n",
    "# print top five occuring words in each branch\n",
    "template = \"{0:37}|{1:10}\"\n",
    "print \"TOP FIVE TERMS IN EACH SUBREDDIT\"\n",
    "for subreddit, tfs in subreddit_tfs.items():\n",
    "    top_five = sorted(tfs.items(), key = lambda (w, c) : (-c, w))[:10]\n",
    "    print template.format(subreddit, ', '.join([w for w,c in top_five]))"
   ]
  },
  {
   "cell_type": "markdown",
   "metadata": {},
   "source": [
    "Run this first to calculate TFIDFs for Christianity"
   ]
  },
  {
   "cell_type": "code",
   "execution_count": 35,
   "metadata": {
    "collapsed": false
   },
   "outputs": [],
   "source": [
    "subbreddits_considered = [\"sports\", \"gaming\", \"movies\", \"music\", \"christianity\"]"
   ]
  },
  {
   "cell_type": "markdown",
   "metadata": {},
   "source": [
    "Run this first to calculate TFIDFs for Islam"
   ]
  },
  {
   "cell_type": "code",
   "execution_count": 34,
   "metadata": {
    "collapsed": true
   },
   "outputs": [],
   "source": [
    "subbreddits_considered = [\"sports\", \"gaming\", \"movies\", \"music\", \"islam\"]"
   ]
  },
  {
   "cell_type": "markdown",
   "metadata": {},
   "source": [
    "Run this first to calculate TFIDFs for Islam+Christianity combined"
   ]
  },
  {
   "cell_type": "code",
   "execution_count": null,
   "metadata": {
    "collapsed": true
   },
   "outputs": [],
   "source": [
    "subbreddits_considered = [\"sports\", \"gaming\", \"movies\", \"music\", \"islam_christianity\"]"
   ]
  },
  {
   "cell_type": "markdown",
   "metadata": {},
   "source": [
    "Calculating IDFs"
   ]
  },
  {
   "cell_type": "code",
   "execution_count": 36,
   "metadata": {
    "collapsed": true
   },
   "outputs": [],
   "source": [
    "cleaned_tokens = {subreddit:tokens for subreddit,tokens in subreddit_cleantokens.items() if subreddit in subbreddits_considered}"
   ]
  },
  {
   "cell_type": "code",
   "execution_count": 37,
   "metadata": {
    "collapsed": false
   },
   "outputs": [],
   "source": [
    "# resulting IDFs: word -> idf\n",
    "word_idfs = {}\n",
    "\n",
    "# list where a token appears once for every branch it appears in i.e. values 1-6 times\n",
    "all_words = []\n",
    "for wordlist in cleaned_tokens.values():\n",
    "    all_words += set(wordlist)\n",
    "\n",
    "# word -> num branches it's in\n",
    "word_freq = nltk.FreqDist(all_words)\n",
    "\n",
    "# compute idf for every word\n",
    "num_subreddits = len(cleaned_tokens.values()) # obviously 2 here, but rather not hard-code\n",
    "for word in set(all_words):\n",
    "    idf = math.log(num_subreddits / word_freq[word])\n",
    "    word_idfs[word] = idf"
   ]
  },
  {
   "cell_type": "markdown",
   "metadata": {},
   "source": [
    "Calculating TFIDF"
   ]
  },
  {
   "cell_type": "code",
   "execution_count": 38,
   "metadata": {
    "collapsed": true
   },
   "outputs": [],
   "source": [
    "# resulting TF-IDFs: branch -> (word -> tf-idf)\n",
    "subreddit_tfidfs = {}"
   ]
  },
  {
   "cell_type": "code",
   "execution_count": 39,
   "metadata": {
    "collapsed": false
   },
   "outputs": [
    {
     "name": "stdout",
     "output_type": "stream",
     "text": [
      "TOP TEN WORDS IN EACH SUBREDDIT\n",
      "gaming                            \n",
      "\t|gemle, modders, bethesda, iwata, controller, fallout, witcher, ps4, cartridge, npc\n",
      "\n",
      "sports                            \n",
      "\t|rugby, nba, sportscenter, playoff, mayweather, espn, dunk, jeter, ronaldo, seahawks\n",
      "\n",
      "movies                            \n",
      "\t|imax, ultron, cgi, spielberg, tarantino, 288i, ebert, blofeld, cumberbatch, depp\n",
      "\n",
      "music                             \n",
      "\t||**https, foo, /r/music, coheed, deftones, ticketmaster, grooveshark, nujabes, musician, metallica\n",
      "\n",
      "christianity                      \n",
      "\t|pastor, /r/christianity, r/christianity, baptized, scripture, denomination, /r/atheism, baptism, gospel, sinful\n",
      "\n"
     ]
    }
   ],
   "source": [
    "\n",
    "# compute TF-IDF for each word, for each branch\n",
    "for subreddit, wordlist in cleaned_tokens.items():\n",
    "    tfidfs = {word: subreddit_tfs[subreddit][word] * word_idfs[word] for word in wordlist}\n",
    "    subreddit_tfidfs[subreddit] = tfidfs\n",
    "    \n",
    "# print top 10 words in each branch\n",
    "template = \"{0:34}\\n\\t|{1:10}\\n\"\n",
    "print \"TOP TEN WORDS IN EACH SUBREDDIT\"\n",
    "for subreddit, tfidfs in subreddit_tfidfs.items():\n",
    "    top_ten = sorted(tfidfs.items(), key = lambda (w, c) : (-c, w))[:10]\n",
    "    print template.format(subreddit, ', '.join([w.encode('utf8') for w,c in top_ten]))"
   ]
  },
  {
   "cell_type": "code",
   "execution_count": 40,
   "metadata": {
    "collapsed": false
   },
   "outputs": [
    {
     "ename": "KeyError",
     "evalue": "'islam'",
     "output_type": "error",
     "traceback": [
      "\u001b[1;31m---------------------------------------------------------------------------\u001b[0m",
      "\u001b[1;31mKeyError\u001b[0m                                  Traceback (most recent call last)",
      "\u001b[1;32m<ipython-input-40-f3af1ac2482b>\u001b[0m in \u001b[0;36m<module>\u001b[1;34m()\u001b[0m\n\u001b[0;32m      1\u001b[0m \u001b[0mtop_c\u001b[0m \u001b[1;33m=\u001b[0m \u001b[1;33m{\u001b[0m\u001b[0mw\u001b[0m\u001b[1;33m:\u001b[0m\u001b[0mc\u001b[0m \u001b[1;32mfor\u001b[0m \u001b[0mw\u001b[0m\u001b[1;33m,\u001b[0m\u001b[0mc\u001b[0m \u001b[1;32min\u001b[0m \u001b[0msorted\u001b[0m\u001b[1;33m(\u001b[0m\u001b[0msubreddit_tfidfs\u001b[0m\u001b[1;33m[\u001b[0m\u001b[1;34m\"christianity\"\u001b[0m\u001b[1;33m]\u001b[0m\u001b[1;33m.\u001b[0m\u001b[0mitems\u001b[0m\u001b[1;33m(\u001b[0m\u001b[1;33m)\u001b[0m\u001b[1;33m,\u001b[0m \u001b[0mkey\u001b[0m \u001b[1;33m=\u001b[0m \u001b[1;32mlambda\u001b[0m \u001b[1;33m(\u001b[0m\u001b[0mw\u001b[0m\u001b[1;33m,\u001b[0m \u001b[0mc\u001b[0m\u001b[1;33m)\u001b[0m \u001b[1;33m:\u001b[0m \u001b[1;33m(\u001b[0m\u001b[1;33m-\u001b[0m\u001b[0mc\u001b[0m\u001b[1;33m,\u001b[0m \u001b[0mw\u001b[0m\u001b[1;33m)\u001b[0m\u001b[1;33m)\u001b[0m\u001b[1;33m[\u001b[0m\u001b[1;33m:\u001b[0m\u001b[1;36m1000\u001b[0m\u001b[1;33m]\u001b[0m\u001b[1;33m}\u001b[0m\u001b[1;33m\u001b[0m\u001b[0m\n\u001b[1;32m----> 2\u001b[1;33m \u001b[0mtop_i\u001b[0m \u001b[1;33m=\u001b[0m \u001b[1;33m{\u001b[0m\u001b[0mw\u001b[0m\u001b[1;33m:\u001b[0m\u001b[0mc\u001b[0m \u001b[1;32mfor\u001b[0m \u001b[0mw\u001b[0m\u001b[1;33m,\u001b[0m\u001b[0mc\u001b[0m \u001b[1;32min\u001b[0m \u001b[0msorted\u001b[0m\u001b[1;33m(\u001b[0m\u001b[0msubreddit_tfidfs\u001b[0m\u001b[1;33m[\u001b[0m\u001b[1;34m\"islam\"\u001b[0m\u001b[1;33m]\u001b[0m\u001b[1;33m.\u001b[0m\u001b[0mitems\u001b[0m\u001b[1;33m(\u001b[0m\u001b[1;33m)\u001b[0m\u001b[1;33m,\u001b[0m \u001b[0mkey\u001b[0m \u001b[1;33m=\u001b[0m \u001b[1;32mlambda\u001b[0m \u001b[1;33m(\u001b[0m\u001b[0mw\u001b[0m\u001b[1;33m,\u001b[0m \u001b[0mc\u001b[0m\u001b[1;33m)\u001b[0m \u001b[1;33m:\u001b[0m \u001b[1;33m(\u001b[0m\u001b[1;33m-\u001b[0m\u001b[0mc\u001b[0m\u001b[1;33m,\u001b[0m \u001b[0mw\u001b[0m\u001b[1;33m)\u001b[0m\u001b[1;33m)\u001b[0m\u001b[1;33m[\u001b[0m\u001b[1;33m:\u001b[0m\u001b[1;36m1000\u001b[0m\u001b[1;33m]\u001b[0m\u001b[1;33m}\u001b[0m\u001b[1;33m\u001b[0m\u001b[0m\n\u001b[0m\u001b[0;32m      3\u001b[0m \u001b[1;33m\u001b[0m\u001b[0m\n\u001b[0;32m      4\u001b[0m \u001b[0mtop_c\u001b[0m \u001b[1;33m=\u001b[0m \u001b[1;33m{\u001b[0m\u001b[0mw\u001b[0m\u001b[1;33m:\u001b[0m\u001b[0mc\u001b[0m \u001b[1;32mfor\u001b[0m \u001b[0mw\u001b[0m\u001b[1;33m,\u001b[0m\u001b[0mc\u001b[0m \u001b[1;32min\u001b[0m \u001b[0mtop_c\u001b[0m\u001b[1;33m.\u001b[0m\u001b[0mitems\u001b[0m\u001b[1;33m(\u001b[0m\u001b[1;33m)\u001b[0m \u001b[1;32mif\u001b[0m \u001b[0mw\u001b[0m \u001b[1;32min\u001b[0m \u001b[0mtop_i\u001b[0m\u001b[1;33m.\u001b[0m\u001b[0mkeys\u001b[0m\u001b[1;33m(\u001b[0m\u001b[1;33m)\u001b[0m\u001b[1;33m}\u001b[0m\u001b[1;33m\u001b[0m\u001b[0m\n\u001b[0;32m      5\u001b[0m \u001b[0mtop_i\u001b[0m \u001b[1;33m=\u001b[0m \u001b[1;33m{\u001b[0m\u001b[0mw\u001b[0m\u001b[1;33m:\u001b[0m\u001b[0mc\u001b[0m \u001b[1;32mfor\u001b[0m \u001b[0mw\u001b[0m\u001b[1;33m,\u001b[0m\u001b[0mc\u001b[0m \u001b[1;32min\u001b[0m \u001b[0mtop_i\u001b[0m\u001b[1;33m.\u001b[0m\u001b[0mitems\u001b[0m\u001b[1;33m(\u001b[0m\u001b[1;33m)\u001b[0m \u001b[1;32mif\u001b[0m \u001b[0mw\u001b[0m \u001b[1;32min\u001b[0m \u001b[0mtop_c\u001b[0m\u001b[1;33m.\u001b[0m\u001b[0mkeys\u001b[0m\u001b[1;33m(\u001b[0m\u001b[1;33m)\u001b[0m\u001b[1;33m}\u001b[0m\u001b[1;33m\u001b[0m\u001b[0m\n",
      "\u001b[1;31mKeyError\u001b[0m: 'islam'"
     ]
    }
   ],
   "source": [
    "top_c = {w:c for w,c in sorted(subreddit_tfidfs[\"christianity\"].items(), key = lambda (w, c) : (-c, w))[:1000]}\n",
    "top_i = {w:c for w,c in sorted(subreddit_tfidfs[\"islam\"].items(), key = lambda (w, c) : (-c, w))[:1000]}\n",
    "\n",
    "top_c = {w:c for w,c in top_c.items() if w in top_i.keys()}\n",
    "top_i = {w:c for w,c in top_i.items() if w in top_c.keys()}\n",
    "incommon = top_i.keys()\n",
    "incommon_scores_added = {w:c + top_i[w] for w,c in top_c.items()}\n",
    "incommon_scores_difference = {w:abs(c - top_i[w]) for w,c in top_c.items()}\n",
    "\n",
    "top_added = sorted(incommon_scores_added.items(), key = lambda (w, c) : (-c, w))[:50]\n",
    "# words that both groups have the most similarity in significance\n",
    "top_difference = sorted(incommon_scores_added.items(), key = lambda (w, c) : (c, w))[:50]\n",
    "print incommon[:50]\n",
    "print\n",
    "print [w for w,c in top_added]\n",
    "print\n",
    "print [w for w,c in top_difference]"
   ]
  },
  {
   "cell_type": "code",
   "execution_count": 46,
   "metadata": {
    "collapsed": false
   },
   "outputs": [
    {
     "name": "stdout",
     "output_type": "stream",
     "text": [
      "455.470929219\n"
     ]
    }
   ],
   "source": [
    "tfidfs_to_show = {}\n",
    "#tfidfs_to_show[\"Islam\"] = subreddit_tfidfs[\"islam\"]\n",
    "tfidfs_to_show[\"Christianity\"] = subreddit_tfidfs[\"christianity\"]\n",
    "#tfidfs_to_show[\"Added Scores\"] = incommon_scores_added\n",
    "#tfidfs_to_show[\"Difference of Scores\"] = incommon_scores_difference\n",
    "#tfidfs_to_show[\"Combined\"] = subreddit_tfidfs[\"islam_christianity\"]\n",
    "#tfidfs_to_show[\"In Common\"] = {w:1 for w in top_i}\n",
    "\n",
    "# resulting strings: branch -> wordlist\n",
    "subreddit_tfidfs_strings = {}\n",
    "#subreddit_tfidfs_strings[\"InCommon\"] = ' '.join(incommon)\n",
    "\n",
    "print subreddit_tfidfs[\"christianity\"][\"r/christianity\"] \n",
    "\n",
    "# each list contains a word as many times as its TF-IDF score\n",
    "for subreddit, tfidfs in tfidfs_to_show.items():\n",
    "    tfidf_list = []\n",
    "    for word, score in tfidfs.items():\n",
    "        int_score = int((math.ceil(score))) # score rounded to an integer\n",
    "        if word == \"islam\":\n",
    "            int_score = 500\n",
    "        if word == \"non\":\n",
    "            int_score = 500\n",
    "        tfidf_list += [word] * int_score \n",
    "        \n",
    "    subreddit_tfidfs_strings[subreddit] = ' '.join(tfidf_list) # create one string"
   ]
  },
  {
   "cell_type": "code",
   "execution_count": 47,
   "metadata": {
    "collapsed": false,
    "scrolled": true
   },
   "outputs": [
    {
     "data": {
      "image/png": "[encoded data removed]",
      "text/plain": [
       "<matplotlib.figure.Figure at 0x48830f0>"
      ]
     },
     "metadata": {},
     "output_type": "display_data"
    }
   ],
   "source": [
    "p = 0\n",
    "for subreddit, text in subreddit_tfidfs_strings.items():\n",
    "    wordcloud = WordCloud(width=1800,height=1400).generate(text)\n",
    "    pyplot.figure()\n",
    "    pyplot.imshow(wordcloud)\n",
    "    pyplot.axis(\"off\")\n",
    "    #pyplot.title(subreddit.upper())\n",
    "    pyplot.savefig('./'+subreddit+'_wordclouds.png', dpi=300)\n",
    "    pyplot.show()\n",
    "\n",
    "#pyplot.savefig('./branch_wordclouds.png', dpi=300)"
   ]
  },
  {
   "cell_type": "code",
   "execution_count": 54,
   "metadata": {
    "collapsed": false
   },
   "outputs": [
    {
     "ename": "TypeError",
     "evalue": "coercing to Unicode: need string or buffer, list found",
     "output_type": "error",
     "traceback": [
      "\u001b[1;31m---------------------------------------------------------------------------\u001b[0m",
      "\u001b[1;31mTypeError\u001b[0m                                 Traceback (most recent call last)",
      "\u001b[1;32m<ipython-input-54-dbfd6f52428c>\u001b[0m in \u001b[0;36m<module>\u001b[1;34m()\u001b[0m\n\u001b[0;32m      7\u001b[0m     \u001b[1;32mif\u001b[0m \u001b[0msubreddit\u001b[0m \u001b[1;33m==\u001b[0m \u001b[1;34m\"Islam\"\u001b[0m\u001b[1;33m:\u001b[0m\u001b[1;33m\u001b[0m\u001b[0m\n\u001b[0;32m      8\u001b[0m         \u001b[1;32mcontinue\u001b[0m\u001b[1;33m\u001b[0m\u001b[0m\n\u001b[1;32m----> 9\u001b[1;33m     \u001b[0mtext\u001b[0m \u001b[1;33m+=\u001b[0m \u001b[1;33m[\u001b[0m\u001b[1;34m\"words\"\u001b[0m\u001b[1;33m]\u001b[0m\u001b[1;33m\u001b[0m\u001b[0m\n\u001b[0m\u001b[0;32m     10\u001b[0m     wordcloud = WordCloud(\n\u001b[0;32m     11\u001b[0m                       \u001b[0mmax_font_size\u001b[0m\u001b[1;33m=\u001b[0m\u001b[1;36m200\u001b[0m\u001b[1;33m,\u001b[0m\u001b[1;33m\u001b[0m\u001b[0m\n",
      "\u001b[1;31mTypeError\u001b[0m: coercing to Unicode: need string or buffer, list found"
     ]
    }
   ],
   "source": [
    "from scipy.misc import imread\n",
    "\n",
    "reddit_mask = imread('./reddit-mask.png', flatten=True)\n",
    "\n",
    "\n",
    "for subreddit, text in subreddit_tfidfs_strings.items():\n",
    "    if subreddit == \"Christianity\" or subreddit == \"Islam\":\n",
    "        continue\n",
    "    wordcloud = WordCloud(\n",
    "                      max_font_size=200,\n",
    "                      background_color='white',\n",
    "                      mask=reddit_mask\n",
    "            ).generate(text)\n",
    "    pyplot.figure()\n",
    "    pyplot.imshow(wordcloud)\n",
    "    pyplot.axis(\"off\")\n",
    "    #pyplot.title(subreddit.upper())\n",
    "    pyplot.savefig('./'+subreddit+'_wordclouds.png', dpi=300)\n",
    "    pyplot.show()"
   ]
  },
  {
   "cell_type": "code",
   "execution_count": 59,
   "metadata": {
    "collapsed": false
   },
   "outputs": [
    {
     "data": {
      "image/png": "[encoded data removed]",
      "text/plain": [
       "<matplotlib.figure.Figure at 0x25b94860>"
      ]
     },
     "metadata": {},
     "output_type": "display_data"
    }
   ],
   "source": [
    "from scipy.misc import imread\n",
    "\n",
    "reddit_mask = imread('./cloud_mask.png', flatten=True)\n",
    "\n",
    "text = \"\"\"Random Word List\n",
    "\n",
    "Print this page, cut out the words, put them in a jar, and use it to draw out random words when you need a stimulus.\n",
    "Adult\n",
    "\n",
    "Aeroplane\n",
    "\n",
    "Air\n",
    "\n",
    "Aircraft Carrier\n",
    "\n",
    "Airforce\n",
    "\n",
    "Airport\n",
    "\n",
    "Album\n",
    "\n",
    "Alphabet\n",
    "\n",
    "Apple\n",
    "\n",
    "Arm\n",
    "\n",
    "Army\n",
    "\n",
    "Baby\n",
    "\n",
    "Baby\n",
    "\n",
    "Backpack\n",
    "\n",
    "Balloon\n",
    "\n",
    "Banana\n",
    "\n",
    "Bank\n",
    "\n",
    "Barbecue\n",
    "\n",
    "Bathroom\n",
    "\n",
    "Bathtub\n",
    "\n",
    "Bed\n",
    "\n",
    "Bed\n",
    "\n",
    "Bee\n",
    "\n",
    "Bible\n",
    "\n",
    "Bible\n",
    "\n",
    "Bird\n",
    "\n",
    "Bomb\n",
    "\n",
    "Book\n",
    "\n",
    "Boss\n",
    "\n",
    "Bottle\n",
    "\n",
    "Bowl\n",
    "\n",
    "Box\n",
    "\n",
    "Boy\n",
    "\n",
    "Brain\n",
    "\n",
    "Bridge\n",
    "\n",
    "Butterfly\n",
    "\n",
    "Button\n",
    "\n",
    "Cappuccino\n",
    "\n",
    "Car\n",
    "\n",
    "Car-race\n",
    "\n",
    "Carpet\n",
    "\n",
    "Carrot\n",
    "\n",
    "Cave\n",
    "\n",
    "Chair\n",
    "\n",
    "Chess Board\n",
    "\n",
    "Chief\n",
    "\n",
    "Child\n",
    "\n",
    "Chisel\n",
    "\n",
    "Chocolates\n",
    "\n",
    "Church\n",
    "\n",
    "Church\n",
    "\n",
    "Circle\n",
    "\n",
    "Circus\n",
    "\n",
    "Circus\n",
    "\n",
    "Clock\n",
    "\n",
    "Clown\n",
    "\n",
    "Coffee\n",
    "\n",
    "Coffee-shop\n",
    "\n",
    "Comet\n",
    "\n",
    "Compact Disc\n",
    "\n",
    "Compass\n",
    "\n",
    "Computer\n",
    "\n",
    "Crystal\n",
    "\n",
    "Cup\n",
    "\n",
    "Cycle\n",
    "\n",
    "Data Base\n",
    "\n",
    "Desk\n",
    "\n",
    "Diamond\n",
    "\n",
    "Dress\n",
    "\n",
    "Drill\n",
    "\n",
    "Drink\n",
    "\n",
    "Drum\n",
    "\n",
    "Dung\n",
    "\n",
    "Ears\n",
    "\n",
    "Earth\n",
    "\n",
    "Egg\n",
    "\n",
    "Electricity\n",
    "\n",
    "Elephant\n",
    "\n",
    "Eraser\n",
    "\n",
    "Explosive\n",
    "\n",
    "Eyes\n",
    "\n",
    "Family\n",
    "\n",
    "Fan\n",
    "\n",
    "Feather\n",
    "\n",
    "Festival\n",
    "\n",
    "Film\n",
    "\n",
    "Finger\n",
    "\n",
    "Fire\n",
    "\n",
    "Floodlight\n",
    "\n",
    "Flower\n",
    "\n",
    "Foot\n",
    "\n",
    "Fork\n",
    "\n",
    "Freeway\n",
    "\n",
    "Fruit\n",
    "\n",
    "Fungus\n",
    "\n",
    "Game\n",
    "\n",
    "Garden\n",
    "\n",
    "Gas\n",
    "\n",
    "Gate\n",
    "\n",
    "Gemstone\n",
    "\n",
    "Girl\n",
    "\n",
    "Gloves\n",
    "\n",
    "God\n",
    "\n",
    "Grapes\n",
    "\n",
    "Guitar\n",
    "\n",
    "Hammer\n",
    "\n",
    "Hat\n",
    "\n",
    "Hieroglyph\n",
    "\n",
    "Highway\n",
    "\n",
    "Horoscope\n",
    "\n",
    "Horse\n",
    "\n",
    "Hose\n",
    "\n",
    "Ice\n",
    "\n",
    "Ice-cream\n",
    "\n",
    "Insect\n",
    "\n",
    "Jet fighter\n",
    "\n",
    "Junk\n",
    "\n",
    "Kaleidoscope\n",
    "\n",
    "Kitchen\n",
    "\n",
    "Knife\n",
    "\n",
    "Leather jacket\n",
    "\n",
    "Leg\n",
    "\n",
    "Library\n",
    "\n",
    "Liquid\n",
    "\n",
    "Magnet\n",
    "\n",
    "Man\n",
    "\n",
    "Map\n",
    "\n",
    "Maze\n",
    "\n",
    "Meat\n",
    "\n",
    "Meteor\n",
    "\n",
    "Microscope\n",
    "\n",
    "Milk\n",
    "\n",
    "Milkshake\n",
    "\n",
    "Mist\n",
    "\n",
    "Money $$$$\n",
    "\n",
    "Monster\n",
    "\n",
    "Mosquito\n",
    "\n",
    "Mouth\n",
    "\n",
    "Nail\n",
    "\n",
    "Navy\n",
    "\n",
    "Necklace\n",
    "\n",
    "Needle\n",
    "\n",
    "Onion\n",
    "\n",
    "PaintBrush\n",
    "\n",
    "Pants\n",
    "\n",
    "Parachute\n",
    "\n",
    "Passport\n",
    "\n",
    "Pebble\n",
    "\n",
    "Pendulum\n",
    "\n",
    "Pepper\n",
    "\n",
    "Perfume\n",
    "\n",
    "Pillow\n",
    "\n",
    "Plane\n",
    "\n",
    "Planet\n",
    "\n",
    "Pocket\n",
    "\n",
    "Post-office\n",
    "\n",
    "Potato\n",
    "\n",
    "Printer\n",
    "\n",
    "Prison\n",
    "\n",
    "Pyramid\n",
    "\n",
    "Radar\n",
    "\n",
    "Rainbow\n",
    "\n",
    "Record\n",
    "\n",
    "Restaurant\n",
    "\n",
    "Rifle\n",
    "\n",
    "Ring\n",
    "\n",
    "Robot\n",
    "\n",
    "Rock\n",
    "\n",
    "Rocket\n",
    "\n",
    "Roof\n",
    "\n",
    "Room\n",
    "\n",
    "Rope\n",
    "\n",
    "Saddle\n",
    "\n",
    "Salt\n",
    "\n",
    "Sandpaper\n",
    "\n",
    "Sandwich\n",
    "\n",
    "Satellite\n",
    "\n",
    "School\n",
    "\n",
    "Sex\n",
    "\n",
    "Ship\n",
    "\n",
    "Shoes\n",
    "\n",
    "Shop\n",
    "\n",
    "Shower\n",
    "\n",
    "Signature\n",
    "\n",
    "Skeleton\n",
    "\n",
    "Slave\n",
    "\n",
    "Snail\n",
    "\n",
    "Software\n",
    "\n",
    "Solid\n",
    "\n",
    "Space Shuttle\n",
    "\n",
    "Spectrum\n",
    "\n",
    "Sphere\n",
    "\n",
    "Spice\n",
    "\n",
    "Spiral\n",
    "\n",
    "Spoon\n",
    "\n",
    "Sports-car\n",
    "\n",
    "Spot Light\n",
    "\n",
    "Square\n",
    "\n",
    "Staircase\n",
    "\n",
    "Star\n",
    "\n",
    "Stomach\n",
    "\n",
    "Sun\n",
    "\n",
    "Sunglasses\n",
    "\n",
    "Surveyor\n",
    "\n",
    "Swimming Pool\n",
    "\n",
    "Sword\n",
    "\n",
    "Table\n",
    "\n",
    "Tapestry\n",
    "\n",
    "Teeth\n",
    "\n",
    "Telescope\n",
    "\n",
    "Television\n",
    "\n",
    "Tennis racquet\n",
    "\n",
    "Thermometer\n",
    "\n",
    "Tiger\n",
    "\n",
    "Toilet\n",
    "\n",
    "Tongue\n",
    "\n",
    "Torch\n",
    "\n",
    "Torpedo\n",
    "\n",
    "Train\n",
    "\n",
    "Treadmill\n",
    "\n",
    "Triangle\n",
    "\n",
    "Tunnel\n",
    "\n",
    "Typewriter\n",
    "\n",
    "Umbrella\n",
    "\n",
    "Vacuum\n",
    "\n",
    "Vampire\n",
    "\n",
    "Videotape\n",
    "\n",
    "Vulture\n",
    "\n",
    "Water\n",
    "\n",
    "Weapon\n",
    "\n",
    "Web\n",
    "\n",
    "Wheelchair\n",
    "\n",
    "Window\n",
    "\n",
    "Woman\n",
    "\n",
    "Worm\n",
    "\n",
    "X-ray\n",
    "\n",
    "\n",
    "Last updated\"\"\"\n",
    "text = text.split()\n",
    "text += [\"words\"] *50\n",
    "text += [\"reddit\"] *50\n",
    "text += [\"christianity\"] *50\n",
    "text += [\"islam\"] *50\n",
    "text += [\"significance\"] *50\n",
    "text += [\"comparison\"] *50\n",
    "text = ' '.join(text)\n",
    "wordcloud = WordCloud(max_font_size=200,background_color='white',mask=reddit_mask).generate(text)\n",
    "#wordcloud = WordCloud(width=1800,height=1400).generate(text)\n",
    "pyplot.figure()\n",
    "pyplot.imshow(wordcloud)\n",
    "pyplot.axis(\"off\")\n",
    "#pyplot.title(subreddit.upper())\n",
    "pyplot.savefig('./cloud_wordclouds.png', dpi=300)\n",
    "pyplot.show()"
   ]
  },
  {
   "cell_type": "code",
   "execution_count": null,
   "metadata": {
    "collapsed": false
   },
   "outputs": [],
   "source": [
    "print len(subreddit_tfidfs_strings[\"Christianity\"])"
   ]
  },
  {
   "cell_type": "code",
   "execution_count": null,
   "metadata": {
    "collapsed": false
   },
   "outputs": [],
   "source": []
  },
  {
   "cell_type": "code",
   "execution_count": null,
   "metadata": {
    "collapsed": true
   },
   "outputs": [],
   "source": []
  }
 ],
 "metadata": {
  "kernelspec": {
   "display_name": "Python 2",
   "language": "python",
   "name": "python2"
  },
  "language_info": {
   "codemirror_mode": {
    "name": "ipython",
    "version": 2
   },
   "file_extension": ".py",
   "mimetype": "text/x-python",
   "name": "python",
   "nbconvert_exporter": "python",
   "pygments_lexer": "ipython2",
   "version": "2.7.10"
  }
 },
 "nbformat": 4,
 "nbformat_minor": 0
}
